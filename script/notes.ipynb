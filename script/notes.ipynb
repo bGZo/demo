{
 "cells": [
  {
   "cell_type": "markdown",
   "id": "e69d6db2",
   "metadata": {},
   "source": [
    "# Code Crepper"
   ]
  },
  {
   "cell_type": "markdown",
   "id": "97283cb5",
   "metadata": {},
   "source": [
    "I'll put some code (cells)examples in here insteaded of to Gist. This are much better. It could use Cpp/Python/Java and more probablly. I used to get some help in following links, wish next time I don't need to refer to them.\n",
    "\n",
    "- https://docs.python.org/3/\n",
    "\n",
    "And some tips to me, which make sense after i made a mistake.\n",
    "\n",
    "- Its False Not false. Its True Not ture.\n",
    "- {} 不可以声明集合, 它表示空字典, https://www.runoob.com/python3/python3-set.html\n",
    "- 导包: `import urllib.*` is okay?\n",
    "    With packages, like this, you sometimes need to explicitly import the piece you want. That way, the urllib module doesn't have to load everything up just because you wanted one small part. --from: https://stackoverflow.com/questions/37042152/python-3-5-1-urllib-has-no-attribute-request\n",
    "- exist: None"
   ]
  },
  {
   "cell_type": "markdown",
   "id": "2a240820",
   "metadata": {},
   "source": [
    "- main function: https://blog.konghy.cn/2017/04/24/python-entry-program/"
   ]
  },
  {
   "cell_type": "markdown",
   "id": "67069bf0",
   "metadata": {},
   "source": [
    "## Judge"
   ]
  },
  {
   "cell_type": "markdown",
   "id": "d2211386",
   "metadata": {},
   "source": [
    "### 判断是不是二进制文件"
   ]
  },
  {
   "cell_type": "code",
   "execution_count": 19,
   "id": "50eafff1",
   "metadata": {},
   "outputs": [],
   "source": [
    "textchars = bytearray({7,8,9,10,12,13,27} | set(range(0x20, 0x100)) - {0x7f})\n",
    "is_binary_string = lambda bytes: bool(bytes.translate(None, textchars))\n",
    "\n",
    "# is_binary_string(open('/usr/bin/python', 'rb').read(1024))\n",
    "# >>> True\n",
    "# via https://stackoverflow.com/questions/898669/how-can-i-detect-if-a-file-is-binary-non-text-in-python\n",
    "# https://github.com/file/file/blob/f2a6e7cb7db9b5fd86100403df6b2f830c7f22ba/src/encoding.c#L151-L228"
   ]
  },
  {
   "cell_type": "markdown",
   "id": "386e7c0a",
   "metadata": {},
   "source": [
    "## Convertion"
   ]
  },
  {
   "cell_type": "code",
   "execution_count": 30,
   "id": "f284ffc4",
   "metadata": {},
   "outputs": [
    {
     "name": "stdout",
     "output_type": "stream",
     "text": [
      "12         12         0xc         97         a         18\n",
      "         \n"
     ]
    }
   ],
   "source": [
    "print('''{0}\\\n",
    "         {1}\\\n",
    "         {2}\\\n",
    "         {3}\\\n",
    "         {4}\\\n",
    "         {5}\n",
    "         '''.format(str(12),\\\n",
    "                    int('12'),\\\n",
    "                    hex(12),\\\n",
    "                    ord('a'),\\\n",
    "                    chr(97),\\\n",
    "                    int('12', 16)))"
   ]
  },
  {
   "cell_type": "markdown",
   "id": "d25a9f0e",
   "metadata": {},
   "source": [
    "### 普通类型转换\n"
   ]
  },
  {
   "cell_type": "markdown",
   "id": "57eb796a",
   "metadata": {},
   "source": [
    "## String In Python"
   ]
  },
  {
   "cell_type": "markdown",
   "id": "38c711a0",
   "metadata": {},
   "source": [
    "Wolk 目录的格式注意: Py的默认编码是 Unicode, 所以需要加字符 **r**, 否则将报`(unicode error) 'unicodeescape' codec can't decode bytes in position 2-3: truncated \\UXXXXXXXX escape [duplicate] <generator object walk at 0x7f067f9a9820>`. 正确下写法如: `os.walk(r'/mnt/c/Users/15517/Pictures/pic')`. Alos have other char:\n",
    "\n",
    "- u/U: unicode String [defult]\n",
    "- r/R: raw String\n",
    "- b: bytes String\n",
    "\n",
    "or `pandas.read_csv(\"C:/Users/DeePak/Desktop/myac.csv\")` / `pandas.read_csv(\"C:\\\\Users\\\\DeePak\\\\Desktop\\\\myac.csv\")` is okey. Refer to:\n",
    "\n",
    "- https://medium.com/@zuokun.ouyang/python-%E5%AD%97%E7%AC%A6%E4%B8%B2%E5%89%8D%E9%9D%A2%E5%8A%A0-u-r-b-%E7%9A%84%E5%90%AB%E4%B9%89-1a93e35de13\n",
    "- https://stackoverflow.com/questions/37400974/unicode-error-unicodeescape-codec-cant-decode-bytes-in-position-2-3-trunca\n"
   ]
  },
  {
   "cell_type": "markdown",
   "id": "9862a6ca",
   "metadata": {},
   "source": [
    "## List"
   ]
  },
  {
   "cell_type": "markdown",
   "id": "e20d2e03",
   "metadata": {},
   "source": [
    "- Walk in a list:"
   ]
  },
  {
   "cell_type": "code",
   "execution_count": 60,
   "id": "10da73fa",
   "metadata": {},
   "outputs": [
    {
     "name": "stdout",
     "output_type": "stream",
     "text": [
      "love!love!love!love!"
     ]
    }
   ],
   "source": [
    "list = ['l', 'o', 'v','e', '!']\n",
    "for i in list:\n",
    "     print(i, end='')\n",
    "for i in range(len(list)):\n",
    "     print(list[i], end='')\n",
    "for i, val in enumerate(list):\n",
    "     print(list[i], end='')\n",
    "for i, val in enumerate(list, 2):\n",
    "     print(list[i-2], end='')"
   ]
  },
  {
   "cell_type": "markdown",
   "id": "7248f2ab",
   "metadata": {},
   "source": [
    "## OS Manage"
   ]
  },
  {
   "cell_type": "markdown",
   "id": "f98613d2",
   "metadata": {},
   "source": [
    "- os\n",
    "    - os.getcwd(): 得到当前工作目录，即当前Python脚本工作的目录路径\n",
    "    - os.listdir(): 返回指定目录下的所有文件和目录名\n",
    "    - os.remove(): 函数用来删除一个文件\n",
    "    - os.removedirs(r“c：\\python”): 删除多个目录\n",
    "    - os.path.isfile(): 检验给出的路径是否是一个文件\n",
    "    - os.path.isdir(): 检验给出的路径是否是一个目录\n",
    "    - os.path.isabs(): 判断是否是绝对路径\n",
    "    - os.path.exists(): 检验给出的路径是否真地存\n",
    "    - os.path.split() eg os.path.split(‘/home/swaroop/byte/code/poem.txt’) 结果：(‘/home/swaroop/byte/code’, ‘poem.txt’): 返回一个路径的目录名和文件名\n",
    "    - os.path.splitext(): 分离扩展名\n",
    "    - os.path.dirname(): 获取路径名\n",
    "    - os.path.basename(): 获取文件名\n",
    "    -  os.system(): 运行shell命令\n",
    "    - os.getenv() 与os.putenv(): 读取和设置环境变量\n",
    "    - os.linesep Windows使用’\\r\\n’，Linux使用’\\n’而Mac使用’\\r’: 给出当前平台使用的行终止符\n",
    "    - os.name 对于Windows，它是’nt’，而对于Linux/Unix用户，它是’posix’: 指示你正在使用的平台\n",
    "    - os.rename(old， new): 重命名\n",
    "    - os.makedirs(r“c：\\python\\test”): 创建多级目录\n",
    "    - os.mkdir(“test”): 创建单个目录\n",
    "    - os.stat(file): 获取文件属性\n",
    "    - os.chmod(file): 修改文件权限与时间戳\n",
    "    - os.exit(): 终止当前进程\n",
    "    - os.path.getsize(filename): 获取文件大小\n",
    "- Path Manage\n",
    "    - os.mkdir(“file”): 创建目录\n",
    "    - shutil.copyfile(“oldfile”,”newfile”): 复制文件, oldfile和newfile都只能是文件\n",
    "    - shutil.copy(“oldfile”,”newfile”): 复制文件, oldfile只能是文件夹，newfile可以是文件，也可以是目标目录\n",
    "    - shutil.copytree(“olddir”,”newdir”): 复制文件夹, olddir和newdir都只能是目录，且newdir必须不存在\n",
    "    - os.rename(“oldname”,”newname”): 重命名文件(目录), 文件或目录都是使用这条命令\n",
    "    - shutil.move(“oldpos”,”newpos”): 移动文件(目录)\n",
    "    - os.remove(“file”): 删除文件\n",
    "    - os.rmdir(“dir”) : 删除目录, 只能删除空目录\n",
    "    - shutil.rmtree(“dir”):删除目录, 空目录、有内容的目录都可以删\n",
    "    - os.chdir(“path”) 转换目录, 换路径 \n",
    "- Open\n",
    "    - os.mknod(“test.txt”) #创建空文件\n",
    "    - fp = open(“test.txt”,w) #直接打开一个文件，如果文件不存在则创建文件\n",
    "    - w：以写方式打开，\n",
    "    - a：append, 以追加模式打开 (从 EOF 开始, 必要时创建新文件)\n",
    "    - r+：以读写模式打开\n",
    "    - w+：以读写模式打开 (参见 w )\n",
    "    - a+：以读写模式打开 (参见 a )\n",
    "    - rb：以二进制读模式打开\n",
    "    - wb：以二进制写模式打开 (参见 w )\n",
    "    - ab：以二进制追加模式打开 (参见 a )\n",
    "    - rb+：以二进制读写模式打开 (参见 r+ )\n",
    "    - wb+：以二进制读写模式打开 (参见 w+ )\n",
    "    - ab+：以二进制读写模式打开 (参见 a+ )\n",
    "    - fp.read([size]) #size为读取的长度，以byte为单位\n",
    "    - fp.readline([size]) #读一行，如果定义了size，有可能返回的只是一行的一部分\n",
    "    - fp.readlines([size]) #把文件每一行作为一个list的一个成员，并返回这个list。其实它的内部是通过循环调用readline()来实现的。如果提供size参数，size是表示读取内容的总长，也就是说可能只读到文件的一部分。\n",
    "    - fp.write(str) #把str写到文件中，write()并不会在str后加上一个换行符\n",
    "    - fp.writelines(seq) #把seq的内容全部写到文件中(多行一次性写入)。这个函数也只是忠实地写入，不会在每行后面加上任何东西。\n",
    "    - fp.close() #关闭文件。python会在一个文件不用后自动关闭文件，不过这一功能没有保证，最好还是养成自己关闭的习惯。 如果一个文件在关闭后还对其进行操作会产生ValueError\n",
    "    - fp.flush() #把缓冲区的内容写入硬盘\n",
    "    - fp.fileno() #返回一个长整型的”文件标签“\n",
    "    - fp.isatty() #文件是否是一个终端设备文件(unix系统中的)\n",
    "    - fp.tell() #返回文件操作标记的当前位置，以文件的开头为原点\n",
    "    - fp.next() #返回下一行，并将件操作标记位移到下一行。把一个file用于for … in file这样的语句时，就是调用next()函数来实现遍历的。\n",
    "    - fp.seek(offset[,whence]) #将文件打操作标记移到offset的位置。这个offset一般是相对于文件的开头来计算的，一般为正数。但如果提供了whence参数就不一定了，whence可以为0表示从头开始计算，1表示以当前位置为原点计算。2表示以文件末尾为原点进行计算。需要注意，如果文件以a或a+的模式打开，每次进行写操作时，文件操作标记会自动返回到文件末尾。\n",
    "\n",
    "- from: https://blog.csdn.net/silentwolfyh/article/details/74931123"
   ]
  },
  {
   "cell_type": "markdown",
   "id": "9797f3ae",
   "metadata": {},
   "source": [
    "### 遍历本地一级目录"
   ]
  },
  {
   "cell_type": "markdown",
   "id": "67b3b8e4",
   "metadata": {},
   "source": [
    "I am run wsl2, so `C:\\Users\\xxx\\Pictures\\pic` is not suitting me. Should use the mount path, such as `/mnt/c/Users/15517/Pictures/pic`."
   ]
  },
  {
   "cell_type": "code",
   "execution_count": 61,
   "id": "cdae277b",
   "metadata": {},
   "outputs": [],
   "source": [
    "import os\n",
    "\n",
    "localDir = []\n",
    "localFile = []\n",
    "PATH = os.getcwd()\n",
    "\n",
    "for root,dirs,files in os.walk(PATH):\n",
    "    for dir in dirs:\n",
    "        for file in files: \n",
    "            localDir.append(os.path.join(root,dir))\n",
    "            localFile.append(os.path.join(root, file))"
   ]
  },
  {
   "cell_type": "markdown",
   "id": "8729b655",
   "metadata": {},
   "source": [
    "### 遍历所有文件"
   ]
  },
  {
   "cell_type": "code",
   "execution_count": 62,
   "id": "f599acd3",
   "metadata": {},
   "outputs": [],
   "source": [
    "for root,dirs,files in os.walk(r\"D:\\test\"):\n",
    "    for file in files:\n",
    "        print(root) # 获取文件所属目录\n",
    "        print(os.path.join(root,file))# 获取文件路径\n",
    "\n",
    "for root,dirs,files in os.walk(r\"D:\\test\"):\n",
    "    for dir in dirs:\n",
    "        print(dir) #获取目录的名称\n",
    "        print(os.path.join(root,dir)) #获取目录的路径\n",
    "\n",
    "#递归获取该目录下所有的文件名称和目录名称\n",
    "def get_file_path(root_path,file_list,dir_list):\n",
    "    dir_or_files = os.listdir(root_path)\n",
    "    for dir_file in dir_or_files:\n",
    "        dir_file_path = os.path.join(root_path,dir_file)\n",
    "        if os.path.isdir(dir_file_path): # 判断 文件/路径\n",
    "            dir_list.append(dir_file_path)\n",
    "            get_file_path(dir_file_path,file_list,dir_list)\n",
    "        else:\n",
    "            file_list.append(dir_file_path)"
   ]
  },
  {
   "cell_type": "markdown",
   "id": "4c25dd58",
   "metadata": {},
   "source": [
    "walk all file, so the method is like\n",
    "    os.walk(top[, topdown=True[, onerror=None[, followlinks=False]]])\n",
    "    \n",
    "- top − Each directory rooted at directory, yields 3-tuples, i.e.(dirpath, dirnames, filenames)\n",
    "- topdown − If optional argument topdown is True or not specified, \n",
    "- directories are scanned from top-down. If topdown is set to False, directories are scanned from bottom-up.\n",
    "- onerror − This can show error to continue with the walk, or raise the exception to abort the walk.\n",
    "- followlinks − This visits directories pointed to by symlinks, if set to true.\n",
    "\n",
    "refer to:\n",
    "- https://www.tutorialspoint.com/python/os_walk.htm\n",
    "- https://blog.csdn.net/sinat_29957455/article/details/82778306"
   ]
  },
  {
   "cell_type": "markdown",
   "id": "666058b5",
   "metadata": {},
   "source": [
    "### 拿到所有文件名"
   ]
  },
  {
   "cell_type": "code",
   "execution_count": 22,
   "id": "b7bcf414",
   "metadata": {},
   "outputs": [],
   "source": [
    "import os\n",
    "DirList = []\n",
    "FileNameList = []\n",
    "\n",
    "DIR = os.getcwd()\n",
    "for root, dirs, files in os.walk(DIR):\n",
    "    for file in files:\n",
    "        DirList.append(os.path.join(root,file))\n",
    "\n",
    "        nowFileName = os.path.splitext(file) # Here\n",
    "        FileNameList.append(nowFileName[0])\n",
    "        # from: https://www.geeksforgeeks.org/python-os-path-splitext-method/"
   ]
  },
  {
   "cell_type": "markdown",
   "id": "bc56dd60",
   "metadata": {},
   "source": [
    "## Print\n",
    "\n",
    "- 不换行打印, 参数 end=''\n"
   ]
  },
  {
   "cell_type": "code",
   "execution_count": 24,
   "id": "91a1ac72",
   "metadata": {},
   "outputs": [],
   "source": [
    "# print(StrFormat, file=ff) # output to file using print with `file`"
   ]
  },
  {
   "cell_type": "markdown",
   "id": "fd002dce",
   "metadata": {},
   "source": [
    "## Re"
   ]
  },
  {
   "cell_type": "markdown",
   "id": "6010cc4b",
   "metadata": {},
   "source": [
    "- **crawler**: `re.findall()` is more better. and you should notice the usage of `re.match`.\n",
    "  - **`re.match`**: match from **begin** of string!!! I support Judge is better...\n",
    "  - **`re.search`**: match anywhere!\n",
    "  "
   ]
  },
  {
   "cell_type": "code",
   "execution_count": 8,
   "id": "18c6c1f0",
   "metadata": {},
   "outputs": [
    {
     "name": "stdout",
     "output_type": "stream",
     "text": [
      "\"message\": \"9a5ab695d17c3b3271ef48e825a5a52114acfecc92094986ee0ae761d9e33ed712642d6b1647434b493b850d4237cb20be2b0f7cd456d51f88f62bd82ae37518d2baae7570c49c6f59a8051c7e42e5a0395be18da9a39ccc198a8df90129cebf49373c11d9823e24f47b609b56088f039c5a1b120874822fdffa21102430a834\"\n",
      "message\n",
      "9a5ab695d17c3b3271ef48e825a5a52114acfecc92094986ee0ae761d9e33ed712642d6b1647434b493b850d4237cb20be2b0f7cd456d51f88f62bd82ae37518d2baae7570c49c6f59a8051c7e42e5a0395be18da9a39ccc198a8df90129cebf49373c11d9823e24f47b609b56088f039c5a1b120874822fdffa21102430a834\n"
     ]
    }
   ],
   "source": [
    "import re\n",
    "target= '{\"is_success\": true, \"message\": \"9a5ab695d17c3b3271ef48e825a5a52114acfecc92094986ee0ae761d9e33ed712642d6b1647434b493b850d4237cb20be2b0f7cd456d51f88f62bd82ae37518d2baae7570c49c6f59a8051c7e42e5a0395be18da9a39ccc198a8df90129cebf49373c11d9823e24f47b609b56088f039c5a1b120874822fdffa21102430a834\"}'\n",
    "\n",
    "m =re.search(r'\"(message)\": \"(.*)?\"', target)\n",
    "print (target[m.start():m.end()])\n",
    "print(m.group(1)) # notice don not use group[1]\n",
    "print(m.group(2))"
   ]
  },
  {
   "cell_type": "markdown",
   "id": "8287821d",
   "metadata": {},
   "source": [
    "Flag pattern could use \n",
    "\n",
    "| 修饰符 | 描述                                                         |\n",
    "| ------ | ------------------------------------------------------------|\n",
    "| re.I   | 使匹配对大小写不敏感                                          |\n",
    "| re.L   | 做本地化识别（locale-aware）匹配                              |\n",
    "| re.M   | 多行匹配，影响 ^ 和 $                                        |\n",
    "| re.S   | 使 . 匹配包括换行在内的所有字符                                |\n",
    "| re.U   | 根据Unicode字符集解析字符。这个标志影响 \\w, \\W, \\b, \\B.        |\n",
    "| re.X   | 该标志通过给予你更灵活的格式以便你将正则表达式写得更易于理解。    |"
   ]
  },
  {
   "cell_type": "markdown",
   "id": "993fc292",
   "metadata": {},
   "source": [
    "More have `split`, `finditer`, `sub` and `compile`. more see in https://docs.python.org/zh-cn/3/library/re.html"
   ]
  },
  {
   "cell_type": "markdown",
   "id": "62c276a6",
   "metadata": {},
   "source": [
    "## Time\n",
    "\n",
    "- time\n",
    "    - %y 两位数的年份表示（00-99）\n",
    "    - %Y 四位数的年份表示（000-9999）\n",
    "    - %m 月份（01-12）\n",
    "    - %d 月内中的一天（0-31）\n",
    "    - %H 24小时制小时数（0-23）\n",
    "    - %I 12小时制小时数（01-12） \n",
    "    - %M 分钟数（00=59）\n",
    "    - %S 秒（00-59）\n",
    "    - %a 本地简化星期名称\n",
    "    - %A 本地完整星期名称\n",
    "    - %b 本地简化的月份名称\n",
    "    - %B 本地完整的月份名称\n",
    "    - %c 本地相应的日期表示和时间表示\n",
    "    - %j 年内的一天（001-366）\n",
    "    - %p 本地A.M.或P.M.的等价符\n",
    "    - %U 一年中的星期数（00-53）星期天为星期的开始\n",
    "    - %w 星期（0-6），星期天为星期的开始\n",
    "    - %W 一年中的星期数（00-53）星期一为星期的开始\n",
    "    - %x 本地相应的日期表示\n",
    "    - %X 本地相应的时间表示\n",
    "    - %Z 当前时区的名称\n",
    "    - %% %号本身\n",
    "\n",
    "- refer\n",
    "    - https://www.cnblogs.com/kerwinC/p/5760811.html\n"
   ]
  },
  {
   "cell_type": "markdown",
   "id": "8b9aaee1",
   "metadata": {},
   "source": [
    "有一次为了避免文件创建的重名问题, 一时方便取巧, 将文件的开头加入今天的时间之后在做重命名, 但是有一个问题, **必须加到毫秒才会安全**, 因为如果最小任务单位制是毫秒级的话, 精确到秒的命名规则就会出现问题. **[FIXME]** 那么如何加毫秒呢???"
   ]
  },
  {
   "cell_type": "code",
   "execution_count": 4,
   "id": "ffdf3e6b",
   "metadata": {},
   "outputs": [],
   "source": [
    "import time\n",
    "newDir = str(time.strftime('%Y-%m-%d-%H-%M-%S',time.localtime(time.time()))) "
   ]
  },
  {
   "cell_type": "markdown",
   "id": "7fc40d4b",
   "metadata": {},
   "source": [
    "## Requests\n",
    "\n",
    "- test: http://icanhazip.com/\n",
    "\n",
    "### proxy\n",
    "\n",
    "- urllib.urlopen: ProxyHandler -> opener -> request install, more help in\n",
    "  - https://gist.github.com/bGZoCg/82a76ecbebf81b556a1d20a91a6bd21a\n",
    "  - https://gohom.win/2016/01/21/proxy-py/"
   ]
  },
  {
   "cell_type": "code",
   "execution_count": 15,
   "id": "88a9de86",
   "metadata": {},
   "outputs": [],
   "source": [
    "import urllib\n",
    "proxy=\"http://127.0.0.1:7890\" \n",
    "# Build ProxyHandler object by given proxy, wsl2 is hard...\n",
    "proxy_support=urllib.request.ProxyHandler({'http':proxy})\n",
    "# Build opener with ProxyHandler object\n",
    "opener = urllib.request.build_opener(proxy_support)\n",
    "# Install opener to request\n",
    "urllib.request.install_opener(opener)\n",
    "# Open url\n",
    "# r = urllib.request.urlopen('http://icanhazip.com',timeout = 1000)"
   ]
  },
  {
   "cell_type": "markdown",
   "id": "cf2ccb5a",
   "metadata": {},
   "source": [
    "- requests: could use system proxy. or"
   ]
  },
  {
   "cell_type": "markdown",
   "id": "12b6d362",
   "metadata": {},
   "source": [
    "## Re"
   ]
  },
  {
   "cell_type": "code",
   "execution_count": 14,
   "id": "a380d298",
   "metadata": {},
   "outputs": [],
   "source": [
    "import requests\n",
    "proxies = {\n",
    "    \"http\": \"http://127.0.0.1:7890\",\n",
    "    \"https\": \"http://127.0.0.1:7890\",\n",
    "    }\n",
    "# r=requests.get(\"http://icanhazip.com\", proxies=proxies)"
   ]
  },
  {
   "cell_type": "markdown",
   "id": "89df0b0c",
   "metadata": {},
   "source": [
    "- auth: authentication, 认证\n",
    "  - Basic Auth"
   ]
  },
  {
   "cell_type": "markdown",
   "id": "9a7e4f89",
   "metadata": {},
   "source": [
    "## JSON (JavaScript Object Notation)"
   ]
  },
  {
   "cell_type": "markdown",
   "id": "cced0804",
   "metadata": {},
   "source": [
    "- **`loads`**\n",
    "- **`dumps`**"
   ]
  },
  {
   "cell_type": "code",
   "execution_count": 12,
   "id": "eaaad6f3",
   "metadata": {},
   "outputs": [],
   "source": [
    "import json\n",
    "\n",
    "def get_json_to_dict(url):\n",
    "    r = requests.get(url, auth=('user', 'pass')) # Basic Auth\n",
    "    data = json.loads(r.text)\n",
    "    _ans = data['items']\n",
    "    return _ans"
   ]
  },
  {
   "cell_type": "markdown",
   "id": "fbaecdf5",
   "metadata": {},
   "source": [
    "- Transform string json to dict???"
   ]
  },
  {
   "cell_type": "code",
   "execution_count": 9,
   "id": "d1c761b9",
   "metadata": {},
   "outputs": [],
   "source": [
    "def get_unend_dict(Dict):\n",
    "    unendDict = {}\n",
    "    index = 0\n",
    "    for i in Dict:\n",
    "        if i['end'] == \"\":\n",
    "            unendDict[index] = i\n",
    "            # FIXME: how to add sub_dict don't use index???\n",
    "            index += 1\n",
    "    return unendDict"
   ]
  },
  {
   "cell_type": "markdown",
   "id": "b782b1de",
   "metadata": {},
   "source": [
    "## Base64"
   ]
  },
  {
   "cell_type": "markdown",
   "id": "b34631e7",
   "metadata": {},
   "source": [
    "### 去掉文件开头的 `b`"
   ]
  },
  {
   "cell_type": "markdown",
   "id": "84e10a35",
   "metadata": {},
   "source": [
    "开头的 `b` 表示二进制文件, 解码会发生错误\n",
    "\n",
    "> The base64 encoding converts every 3 input bytes to 4 ASCII characters from a restricted set. -- https://stackoverflow.com/questions/58323382/binascii-error-invaild-base64-encoded-string-number-of-data-characters1957-c\n",
    "\n",
    "if you don not open with 'rb', you'll get `error UnicodeDecodeError: 'utf-8' codec can't decode byte 0xff in position 0: invalid start byte`, see more in https://stackoverflow.com/questions/42339876/error-unicodedecodeerror-utf-8-codec-cant-decode-byte-0xff-in-position-0-in"
   ]
  },
  {
   "cell_type": "code",
   "execution_count": 26,
   "id": "e564e7ba",
   "metadata": {},
   "outputs": [],
   "source": [
    "import base64\n",
    "def f(PATH):\n",
    "    with open(PATH, \"rb\") as f:\n",
    "        base64_data = base64.b64encode(f.read())\n",
    "        print(base64_data) \n",
    "        # https://blog.csdn.net/qq_42731401/article/details/105039539"
   ]
  },
  {
   "cell_type": "markdown",
   "id": "67a01317",
   "metadata": {},
   "source": [
    "## Math"
   ]
  },
  {
   "cell_type": "markdown",
   "id": "34e02121",
   "metadata": {},
   "source": [
    "`math.floor()` & `//` is different. While calculating big number, you may be will see the number of `0` is much more, which must be wrong! You could use `hex()` to verify. Cause the floor return is float, is not int, the precision is bad."
   ]
  },
  {
   "cell_type": "code",
   "execution_count": null,
   "id": "7122066d",
   "metadata": {},
   "outputs": [],
   "source": [
    "ans=[]\n",
    "target = 18415121715151845121548215411215820216445125484101548460051710202051815025484202061840201\n",
    "while target != 0:\n",
    "    ans.append(chr(target%256))\n",
    "    temp //= 256 # floor, math.floor is wrong... use gex() to verify"
   ]
  }
 ],
 "metadata": {
  "kernelspec": {
   "display_name": "Python 3 (ipykernel)",
   "language": "python",
   "name": "python3"
  },
  "language_info": {
   "codemirror_mode": {
    "name": "ipython",
    "version": 3
   },
   "file_extension": ".py",
   "mimetype": "text/x-python",
   "name": "python",
   "nbconvert_exporter": "python",
   "pygments_lexer": "ipython3",
   "version": "3.8.5"
  }
 },
 "nbformat": 4,
 "nbformat_minor": 5
}
